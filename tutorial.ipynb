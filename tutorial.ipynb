{
 "cells": [
  {
   "cell_type": "markdown",
   "id": "3bb8c304",
   "metadata": {},
   "source": [
    "# Run HistoQC on whole slide images\n",
    "\n",
    "Among other things, we get tissue masks from HistoQC. Thanks, HistoQC."
   ]
  },
  {
   "cell_type": "code",
   "execution_count": null,
   "id": "629e8250",
   "metadata": {},
   "outputs": [],
   "source": [
    "%%bash\n",
    "docker run --rm \\\n",
    "    -v /etc/passwd:/etc/passwd:ro \\\n",
    "    -v /etc/group:/etc/group:ro \\\n",
    "    --user $(id -u):$(id -g) \\\n",
    "    -v $(pwd)/data:/data \\\n",
    "    -w /data \\\n",
    "    histoqc \\\n",
    "        python -m histoqc --outdir /data/histoqc-outputs/ '/data/wsi/*.svs'"
   ]
  },
  {
   "cell_type": "markdown",
   "id": "f6f31ccc",
   "metadata": {},
   "source": [
    "# Tile the tissue in whole slide images\n",
    "\n",
    "Install `tyler`:"
   ]
  },
  {
   "cell_type": "code",
   "execution_count": null,
   "id": "1912ac10",
   "metadata": {},
   "outputs": [],
   "source": [
    "%pip install --no-cache-dir https://github.com/kaczmarj/tyler/tarball/main"
   ]
  },
  {
   "cell_type": "markdown",
   "id": "b98f9b9a",
   "metadata": {},
   "source": [
    "Tile images:"
   ]
  },
  {
   "cell_type": "code",
   "execution_count": null,
   "id": "fb638d14",
   "metadata": {},
   "outputs": [],
   "source": [
    "%%bash\n",
    "for wsi in data/wsi/*.svs; do\n",
    "  wsi_name=\"$(basename $wsi)\"\n",
    "  mask=\"data/histoqc-outputs/${wsi_name}/${wsi_name}_mask_use.png\"\n",
    "  output=\"data/tiles/\"\n",
    "  if [ -n \"$(ls -A \"$output/$wsi_name\")\" ]; then\n",
    "    echo \"Skipping because output directory contains outputs: $output/$wsi_name\"\n",
    "    continue\n",
    "  fi\n",
    "  python -m tyler --output \"$output\" --tile-size 1000 1000 --strides 1000 1000 --force \"$wsi\" \"$mask\"\n",
    "done"
   ]
  },
  {
   "cell_type": "code",
   "execution_count": null,
   "id": "c959b4e0",
   "metadata": {
    "scrolled": true
   },
   "outputs": [],
   "source": [
    "!ls data/tiles/TCGA-3L-AA1B-01A-01-TS1.9C415218-D5B4-4945-B243-F42A4C8C0484.svs/ | wc -l\n",
    "!ls data/tiles/TCGA-3L-AA1B-01Z-00-DX2.17CE3683-F4B1-4978-A281-8F620C4D77B4.svs/ | wc -l"
   ]
  },
  {
   "cell_type": "markdown",
   "id": "418f914d",
   "metadata": {},
   "source": [
    "# Visualize potential augmentations"
   ]
  },
  {
   "cell_type": "code",
   "execution_count": null,
   "id": "38ca87bf",
   "metadata": {},
   "outputs": [],
   "source": [
    "import matplotlib.pyplot as plt\n",
    "import numpy as np\n",
    "from PIL import Image\n",
    "import torch\n",
    "import torchvision.transforms as T\n",
    "\n",
    "torch.manual_seed(42)"
   ]
  },
  {
   "cell_type": "code",
   "execution_count": null,
   "id": "693e1358",
   "metadata": {},
   "outputs": [],
   "source": [
    "def plot(imgs, with_orig=True, row_title=None, **imshow_kwargs):\n",
    "    if not isinstance(imgs[0], list):\n",
    "        # Make a 2d grid even if there's just 1 row\n",
    "        imgs = [imgs]\n",
    "\n",
    "    num_rows = len(imgs)\n",
    "    num_cols = len(imgs[0]) + with_orig\n",
    "    fig, axs = plt.subplots(nrows=num_rows, ncols=num_cols, squeeze=False, figsize=(15, 8))\n",
    "    for row_idx, row in enumerate(imgs):\n",
    "        row = [orig_img] + row if with_orig else row\n",
    "        for col_idx, img in enumerate(row):\n",
    "            ax = axs[row_idx, col_idx]\n",
    "            ax.imshow(np.asarray(img), **imshow_kwargs)\n",
    "            ax.set(xticklabels=[], yticklabels=[], xticks=[], yticks=[])\n",
    "\n",
    "    if with_orig:\n",
    "        axs[0, 0].set(title='Original image')\n",
    "        axs[0, 0].title.set_size(8)\n",
    "    if row_title is not None:\n",
    "        for row_idx in range(num_rows):\n",
    "            axs[row_idx, 0].set(ylabel=row_title[row_idx])\n",
    "\n",
    "    plt.tight_layout()"
   ]
  },
  {
   "cell_type": "code",
   "execution_count": null,
   "id": "42b52fb3",
   "metadata": {},
   "outputs": [],
   "source": [
    "orig_img = Image.open(\"data/tiles/TCGA-3L-AA1B-01A-01-TS1.9C415218-D5B4-4945-B243-F42A4C8C0484.svs/100000_10000_1000_1000_0.2525_0.2525.png\")\n",
    "orig_img = img.convert(\"RGB\").resize((256, 256))"
   ]
  },
  {
   "cell_type": "markdown",
   "id": "550222f3",
   "metadata": {},
   "source": [
    "## ColorJitter"
   ]
  },
  {
   "cell_type": "code",
   "execution_count": null,
   "id": "b1991ec2",
   "metadata": {},
   "outputs": [],
   "source": [
    "tform = T.ColorJitter(brightness=0.5, hue=0.2, contrast=0.5, saturation=0.1)\n",
    "plot([[tform(orig_img) for _ in range(5)] for _ in range(3)])"
   ]
  },
  {
   "cell_type": "markdown",
   "id": "75f5d001",
   "metadata": {},
   "source": [
    "## GaussianBlur"
   ]
  },
  {
   "cell_type": "code",
   "execution_count": null,
   "id": "a5f54a25",
   "metadata": {},
   "outputs": [],
   "source": [
    "tform = T.GaussianBlur(kernel_size=(3, 9), sigma=(0.1, 2))\n",
    "plot([[tform(orig_img) for _ in range(5)] for _ in range(3)])"
   ]
  },
  {
   "cell_type": "markdown",
   "id": "3c4752ea",
   "metadata": {},
   "source": [
    "## RandomAffine"
   ]
  },
  {
   "cell_type": "code",
   "execution_count": null,
   "id": "260c1134",
   "metadata": {},
   "outputs": [],
   "source": [
    "tform = T.RandomAffine(degrees=180, scale=(0.75, 1.25), shear=15, interpolation=T.InterpolationMode.BILINEAR)\n",
    "plot([[tform(orig_img) for _ in range(5)] for _ in range(3)])"
   ]
  },
  {
   "cell_type": "markdown",
   "id": "d9aea6df",
   "metadata": {},
   "source": [
    "## RandomEqualize"
   ]
  },
  {
   "cell_type": "code",
   "execution_count": null,
   "id": "966f5445",
   "metadata": {},
   "outputs": [],
   "source": [
    "tform = T.RandomEqualize(p=0.25)\n",
    "plot([[tform(orig_img) for _ in range(5)] for _ in range(3)])"
   ]
  },
  {
   "cell_type": "markdown",
   "id": "c4bfd1d8",
   "metadata": {},
   "source": [
    "## AutoAugment"
   ]
  },
  {
   "cell_type": "code",
   "execution_count": null,
   "id": "8a155d55",
   "metadata": {},
   "outputs": [],
   "source": [
    "policies = [T.AutoAugmentPolicy.CIFAR10, T.AutoAugmentPolicy.IMAGENET, T.AutoAugmentPolicy.SVHN]\n",
    "augmenters = [T.AutoAugment(policy) for policy in policies]\n",
    "imgs = [\n",
    "    [augmenter(orig_img) for _ in range(8)]\n",
    "    for augmenter in augmenters\n",
    "]\n",
    "row_title = [str(policy).split('.')[-1] for policy in policies]\n",
    "plot(imgs, row_title=row_title)"
   ]
  },
  {
   "cell_type": "markdown",
   "id": "b910f9b5",
   "metadata": {},
   "source": [
    "# Implement data pipeline"
   ]
  },
  {
   "cell_type": "code",
   "execution_count": null,
   "id": "fe3b8f5b",
   "metadata": {},
   "outputs": [],
   "source": [
    "from vision import HistologyPatchDataset"
   ]
  },
  {
   "cell_type": "code",
   "execution_count": null,
   "id": "a2a9fddb",
   "metadata": {},
   "outputs": [],
   "source": [
    "hd = HistologyPatchDataset(\"data/tiles/\")\n",
    "hd"
   ]
  },
  {
   "cell_type": "code",
   "execution_count": null,
   "id": "0baafe35",
   "metadata": {},
   "outputs": [],
   "source": [
    "len(hd)"
   ]
  },
  {
   "cell_type": "code",
   "execution_count": null,
   "id": "2d1af5d8",
   "metadata": {},
   "outputs": [],
   "source": []
  },
  {
   "cell_type": "code",
   "execution_count": null,
   "id": "e712d8d8",
   "metadata": {},
   "outputs": [],
   "source": []
  },
  {
   "cell_type": "code",
   "execution_count": null,
   "id": "fd2a3a91",
   "metadata": {},
   "outputs": [],
   "source": []
  },
  {
   "cell_type": "code",
   "execution_count": null,
   "id": "6d9a8940",
   "metadata": {},
   "outputs": [],
   "source": []
  },
  {
   "cell_type": "code",
   "execution_count": null,
   "id": "2068e6d5",
   "metadata": {},
   "outputs": [],
   "source": []
  }
 ],
 "metadata": {
  "kernelspec": {
   "display_name": "Python 3 (ipykernel)",
   "language": "python",
   "name": "python3"
  },
  "language_info": {
   "codemirror_mode": {
    "name": "ipython",
    "version": 3
   },
   "file_extension": ".py",
   "mimetype": "text/x-python",
   "name": "python",
   "nbconvert_exporter": "python",
   "pygments_lexer": "ipython3",
   "version": "3.9.6"
  }
 },
 "nbformat": 4,
 "nbformat_minor": 5
}
